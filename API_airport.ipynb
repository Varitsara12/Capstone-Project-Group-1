{
 "cells": [
  {
   "cell_type": "code",
   "execution_count": null,
   "metadata": {},
   "outputs": [],
   "source": [
    "import requests\n",
    "\n",
    "url = \"https://airport-metadata.p.rapidapi.com/v1/airports/by-country/US\"\n",
    "\n",
    "headers = {\n",
    "\t\"x-rapidapi-key\": \"c34514bdcbmshf1d941c232e4fffp12c405jsndebae7b41c87\",\n",
    "\t\"x-rapidapi-host\": \"airport-metadata.p.rapidapi.com\"\n",
    "}\n",
    "\n",
    "response = requests.get(url, headers=headers)\n",
    "\n",
    "print(response.json())"
   ]
  }
 ],
 "metadata": {
  "language_info": {
   "name": "python"
  }
 },
 "nbformat": 4,
 "nbformat_minor": 2
}
