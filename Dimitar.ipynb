{
 "cells": [
  {
   "cell_type": "markdown",
   "metadata": {},
   "source": [
    "# Capstone Project Group 1\n",
    "## Analysis of the Economic Impact of Tourism in Southeast Asia"
   ]
  },
  {
   "cell_type": "code",
   "execution_count": null,
   "metadata": {},
   "outputs": [],
   "source": [
    "#packages to work with\n",
    "\n",
    "import pandas as pd\n",
    "import psycopg2\n",
    "#import sql_functions as sf    #postgres SQL\n",
    "import numpy as np\n",
    "from matplotlib import pyplot as plt\n",
    "import seaborn as sns\n",
    "import scipy as stat\n",
    "import sqlalchemy\n",
    "import chardet\n",
    "\n",
    "#import also any other own custom functions packages if needed\n",
    "#copy our custom functions(sql_functions) file in this repository so that there is an access to the main functions there\n",
    "#(upload it on main so that the others can pull it)"
   ]
  },
  {
   "cell_type": "code",
   "execution_count": null,
   "metadata": {},
   "outputs": [],
   "source": [
    "#read in your csv data into pandas DataFrame\n",
    "\n",
    "pd.read_csv()"
   ]
  }
 ],
 "metadata": {
  "kernelspec": {
   "display_name": "nf_base",
   "language": "python",
   "name": "python3"
  },
  "language_info": {
   "name": "python",
   "version": "3.9.16"
  }
 },
 "nbformat": 4,
 "nbformat_minor": 2
}
