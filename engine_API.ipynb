{
 "cells": [
  {
   "cell_type": "markdown",
   "metadata": {},
   "source": [
    "## Introduction - How to use OpenWeather API\n",
    "\n",
    "<img src=\"images/OpenWeather_API_Logo.jpg\" width=\"600\">\n"
   ]
  },
  {
   "cell_type": "markdown",
   "metadata": {},
   "source": [
    "## Query Data - Making calls to the API\n",
    "When you type www.google.de into your web browser and press enter, your browser will send a request to the server that is hosting google's website, asking to retrieve the contents of the website so it can display it to you. Getting data from APIs works in a similar way. A request is sent to the address of the API, but instead of returning html and javascript files that will be interpreted and rendered by you browser, almost always a JSON file with data is returned. Also while you could use a web browser to send the request, it's not needed and more convenient to use a programming language like Python to do it.\n",
    "\n",
    "In this notebook we are going to use the requests library. It is one of the most downloaded Python packages today, pulling in around 14M downloads / week. You can find out more about it here: https://pypi.org/project/requests/.\n",
    "Complete the code below and import the requests package.\n",
    "\n",
    "In this notebook we will be finally using the OpenWeather API https://openweathermap.org/ and enrich our existing flights data with additional weather data.\n",
    "\n",
    "In fact, you're going to:\n",
    "\n",
    "1. Use your API key to make your first call to the OpenWeather API\n",
    "2. Learn how to adjust your API calls to get the data you need\n",
    "3. Learn how to access and extract data from your JSON\n",
    "4. Learn how to flatten nested JSON data and transform it into a DataFrame for future analysis\n",
    "5. Learn how to make multiple calls to the API with different parameters in an automated way"
   ]
  },
  {
   "cell_type": "code",
   "execution_count": 25,
   "metadata": {},
   "outputs": [],
   "source": [
    "# Import requests package\n",
    "import requests"
   ]
  },
  {
   "cell_type": "markdown",
   "metadata": {},
   "source": [
    "Next, as mentioned above the URL of the API has to be specified. In this example we are going to pull current weather data. The documentation for this API can be found here: https://openweathermap.org/current\n",
    "\n",
    "The url shown below is what needs to be used in order to connect to the API.\n",
    "\n",
    "We can see that the url has \n",
    "* a fixed part: http://api.openweathermap.org/data/2.5/weather?'\n",
    "* and a variable part: 'q={city name},{state code},{country_code}&appid={API key}'\n",
    "\n",
    "<img src=\"images/Current_Weather_API_Call.png\" width=\"600\">\n",
    "\n",
    "Let's take the fixed part to define a url variable."
   ]
  },
  {
   "cell_type": "code",
   "execution_count": 26,
   "metadata": {},
   "outputs": [],
   "source": [
    "# Set URL as url\n",
    "url = 'http://api.openweathermap.org/data/2.5/weather?'"
   ]
  },
  {
   "cell_type": "markdown",
   "metadata": {},
   "source": [
    "While the fixed part stays constant, the variable part consists of query strings or parameters, some optional some mandatory, which can be used to select or filter data or define the format or unit of measurement of the response.\n",
    "\n",
    "Below are the optional and required parameters when pulling current weather data by city name.\n",
    "\n",
    "<img src=\"images/Current_Weather_API_Call_Parameters.png\" width=\"600\">\n",
    "\n",
    "Current weather data can be pulled not only by city name but also by\n",
    "\n",
    "* city ID\n",
    "* geographic coordinates (latitude, longitude)\n",
    "* ZIP code\n",
    "* cities within a rectangular zone\n",
    "* cities in circle\n",
    "\n",
    "Depending on which of the listed methods will be used, the number and names of available parameters can change. Read the documention carefully to avoid running into error messages.\n",
    "\n",
    "In the following example we will stick with pulling the data by city name."
   ]
  },
  {
   "cell_type": "markdown",
   "id": "6dfb3d05",
   "metadata": {},
   "source": [
    "But first:  \n",
    "We need to define a variable that includes our API key that will be used for the appid parameter. Why? Because we need to authenticate ourselves to the API when we send a request, so the API knows that we have a registered account and can notify us in case we reach our query limit.\n",
    "\n",
    "To do this,\n",
    "\n",
    "1. Go to you user profile and go to \"My API keys\" (https://home.openweathermap.org/api_keys)\n",
    "2. Copy your API key.\n",
    "3. Add a variable called \"openweather_api_key\" to your .env file and put your API key in there. Don't forget to save it!"
   ]
  },
  {
   "cell_type": "code",
   "execution_count": 27,
   "id": "c306bbea",
   "metadata": {},
   "outputs": [
    {
     "data": {
      "text/plain": [
       "True"
      ]
     },
     "execution_count": 27,
     "metadata": {},
     "output_type": "execute_result"
    }
   ],
   "source": [
    "# To be able to pull the API key from the .env, we need to import and run the load_dotenv function from the dotenv module first.\n",
    "from dotenv import load_dotenv\n",
    "load_dotenv()"
   ]
  },
  {
   "cell_type": "markdown",
   "id": "e9ad7f7f",
   "metadata": {},
   "source": [
    "As the final step before we can do our first API call, we have to put all necessary parameters we chose (our API key, city and units) into a dictionary. We call it \"parameters\", but you can choose any name."
   ]
  },
  {
   "cell_type": "code",
   "execution_count": 28,
   "id": "4710ceb4",
   "metadata": {},
   "outputs": [],
   "source": [
    "# The OS module in Python provides functions for interacting with the operating system\n",
    "import os"
   ]
  },
  {
   "cell_type": "code",
   "execution_count": 29,
   "id": "8af1ec71",
   "metadata": {},
   "outputs": [],
   "source": [
    "# complete the parameter dictionary \n",
    "parameters = {\n",
    "    'appid': os.getenv('openweather_api_key'), # extract the value for the open weather api key, \n",
    "    'q': 'Düsseldorf', \n",
    "    'units': 'metric'}\n",
    "#print(parameters)"
   ]
  },
  {
   "cell_type": "markdown",
   "metadata": {},
   "source": [
    "We're almost ready to make our first API call!\n",
    "\n",
    "One note: Imagine you're having multiple API calls in your script and you want to change the location parameter for all of them to the same variable at the same time. All we need to do is change the value in the dictionary and the API calls will be adjusted. This is much more convenient and less error prone compared to having to find and adjust each individual API call. This approach will also be helpful when we want to make multiple calls for e.g. different locations in one code block using loops, which we will be doing later."
   ]
  },
  {
   "cell_type": "markdown",
   "metadata": {},
   "source": [
    "Now that we have the url and the parameters, we can finally send our first API request. Since we want to get data, we need to send a GET request. This is done using the get() function from the requests function. The get() function will send a request and retrieve the response for us."
   ]
  },
  {
   "cell_type": "code",
   "execution_count": 30,
   "metadata": {},
   "outputs": [
    {
     "name": "stdout",
     "output_type": "stream",
     "text": [
      "<Response [200]>\n"
     ]
    }
   ],
   "source": [
    "# Send get request\n",
    "r = requests.get(url, parameters)\n",
    "\n",
    "# Print r\n",
    "print(r)"
   ]
  },
  {
   "cell_type": "markdown",
   "metadata": {},
   "source": [
    "Weirdly, when we print the response, all we see is a code 200 message and no data. \n",
    "\n",
    "Did we do something wrong? No! \n",
    "\n",
    "Code 200 actually means that our request was successfull. Check out https://en.wikipedia.org/wiki/List_of_HTTP_status_codes to see a list of reponse codes and their definition. Knowing what the different response codes mean will help you understand error messages and resolve issues faster in the future.\n",
    "\n",
    "So where is the data? The response that the API sent back is actually an object containing multiple elements such as cookies, encoding, headers and content. Run the code blocks below and check out the different elements of the response."
   ]
  },
  {
   "cell_type": "code",
   "execution_count": 31,
   "metadata": {},
   "outputs": [
    {
     "data": {
      "text/plain": [
       "{'Server': 'openresty', 'Date': 'Wed, 19 Jun 2024 09:49:52 GMT', 'Content-Type': 'application/json; charset=utf-8', 'Content-Length': '471', 'Connection': 'keep-alive', 'X-Cache-Key': '/data/2.5/weather?q=d%c3%bcsseldorf&units=metric', 'Access-Control-Allow-Origin': '*', 'Access-Control-Allow-Credentials': 'true', 'Access-Control-Allow-Methods': 'GET, POST'}"
      ]
     },
     "execution_count": 31,
     "metadata": {},
     "output_type": "execute_result"
    }
   ],
   "source": [
    "# Print headers\n",
    "r.headers"
   ]
  },
  {
   "cell_type": "code",
   "execution_count": 32,
   "metadata": {},
   "outputs": [
    {
     "data": {
      "text/plain": [
       "<RequestsCookieJar[]>"
      ]
     },
     "execution_count": 32,
     "metadata": {},
     "output_type": "execute_result"
    }
   ],
   "source": [
    "# Print cookies\n",
    "r.cookies"
   ]
  },
  {
   "cell_type": "code",
   "execution_count": 33,
   "metadata": {},
   "outputs": [
    {
     "data": {
      "text/plain": [
       "'utf-8'"
      ]
     },
     "execution_count": 33,
     "metadata": {},
     "output_type": "execute_result"
    }
   ],
   "source": [
    "# Print encoding\n",
    "r.encoding"
   ]
  },
  {
   "cell_type": "code",
   "execution_count": 34,
   "metadata": {},
   "outputs": [
    {
     "data": {
      "text/plain": [
       "b'{\"coord\":{\"lon\":6.7762,\"lat\":51.2217},\"weather\":[{\"id\":803,\"main\":\"Clouds\",\"description\":\"broken clouds\",\"icon\":\"04d\"}],\"base\":\"stations\",\"main\":{\"temp\":17.64,\"feels_like\":17.55,\"temp_min\":16.26,\"temp_max\":18.89,\"pressure\":1017,\"humidity\":80},\"visibility\":10000,\"wind\":{\"speed\":3.6,\"deg\":10},\"clouds\":{\"all\":75},\"dt\":1718790277,\"sys\":{\"type\":1,\"id\":1264,\"country\":\"DE\",\"sunrise\":1718767008,\"sunset\":1718826708},\"timezone\":7200,\"id\":2934246,\"name\":\"D\\xc3\\xbcsseldorf\",\"cod\":200}'"
      ]
     },
     "execution_count": 34,
     "metadata": {},
     "output_type": "execute_result"
    }
   ],
   "source": [
    "# Print content\n",
    "r.content"
   ]
  },
  {
   "cell_type": "markdown",
   "metadata": {},
   "source": [
    "Found it! The content body holds the data. Since by default it's in JSON format, we can use the built-in JSON decoder to increase readability and prepare the data for future data manipulation."
   ]
  },
  {
   "cell_type": "code",
   "execution_count": 35,
   "metadata": {},
   "outputs": [
    {
     "name": "stdout",
     "output_type": "stream",
     "text": [
      "{'coord': {'lon': 6.7762, 'lat': 51.2217}, 'weather': [{'id': 803, 'main': 'Clouds', 'description': 'broken clouds', 'icon': '04d'}], 'base': 'stations', 'main': {'temp': 17.64, 'feels_like': 17.55, 'temp_min': 16.26, 'temp_max': 18.89, 'pressure': 1017, 'humidity': 80}, 'visibility': 10000, 'wind': {'speed': 3.6, 'deg': 10}, 'clouds': {'all': 75}, 'dt': 1718790277, 'sys': {'type': 1, 'id': 1264, 'country': 'DE', 'sunrise': 1718767008, 'sunset': 1718826708}, 'timezone': 7200, 'id': 2934246, 'name': 'Düsseldorf', 'cod': 200}\n"
     ]
    }
   ],
   "source": [
    "# Apply JSON decoder and save in weather_hh\n",
    "weather_hh = r.json()\n",
    "\n",
    "# Print weather_hh\n",
    "print(weather_hh)"
   ]
  },
  {
   "cell_type": "markdown",
   "metadata": {},
   "source": [
    "This looks good already, but we can make it look even better! To do this, we are going to use the json Python library and its functions to transform the raw data into a json object and print it with proper indentation."
   ]
  },
  {
   "cell_type": "code",
   "execution_count": 36,
   "metadata": {},
   "outputs": [
    {
     "data": {
      "text/plain": [
       "'{\\n   \"coord\": {\\n      \"lon\": 6.7762,\\n      \"lat\": 51.2217\\n   },\\n   \"weather\": [\\n      {\\n         \"id\": 803,\\n         \"main\": \"Clouds\",\\n         \"description\": \"broken clouds\",\\n         \"icon\": \"04d\"\\n      }\\n   ],\\n   \"base\": \"stations\",\\n   \"main\": {\\n      \"temp\": 17.64,\\n      \"feels_like\": 17.55,\\n      \"temp_min\": 16.26,\\n      \"temp_max\": 18.89,\\n      \"pressure\": 1017,\\n      \"humidity\": 80\\n   },\\n   \"visibility\": 10000,\\n   \"wind\": {\\n      \"speed\": 3.6,\\n      \"deg\": 10\\n   },\\n   \"clouds\": {\\n      \"all\": 75\\n   },\\n   \"dt\": 1718790277,\\n   \"sys\": {\\n      \"type\": 1,\\n      \"id\": 1264,\\n      \"country\": \"DE\",\\n      \"sunrise\": 1718767008,\\n      \"sunset\": 1718826708\\n   },\\n   \"timezone\": 7200,\\n   \"id\": 2934246,\\n   \"name\": \"D\\\\u00fcsseldorf\",\\n   \"cod\": 200\\n}'"
      ]
     },
     "execution_count": 36,
     "metadata": {},
     "output_type": "execute_result"
    }
   ],
   "source": [
    "# Import json package\n",
    "import json\n",
    "\n",
    "# Create json object: json_object\n",
    "json_object = json.loads(r.content)\n",
    "\n",
    "# Print json_object\n",
    "json.dumps(json_object, indent = 3)"
   ]
  },
  {
   "cell_type": "markdown",
   "metadata": {},
   "source": [
    "Awesome! Now it's super easy to identify the different key-value pairs and assess the available information.\n",
    "\n",
    "You might be saying: \"Yeah, this is cool and all, but I'm not a weather expert, what do all these fields mean?\" \n",
    "\n",
    "-> **Read the documention!**\n",
    "\n",
    "Go to https://openweathermap.org/current#current_JSON and you will find a list of all fields and their definition that can be found in our JSON response.\n",
    "\n",
    "As mentioned above, we can see the different key-value pairs inside the JSON output. You've probably heard the term key-value pairs before. Do you remember where? Dictionaries, exactly! If you need a quick refresh on what dictionaries are and what they do, check out the official Python documentation here: https://docs.Python.org/3/tutorial/datastructures.html#dictionaries.\n",
    "\n",
    "Printing the type of our weather_hh variable, which is the API response decoded by the JSON decoder, we get the confirmation that we are working with a dictionary."
   ]
  },
  {
   "cell_type": "code",
   "execution_count": 37,
   "metadata": {},
   "outputs": [
    {
     "name": "stdout",
     "output_type": "stream",
     "text": [
      "<class 'dict'>\n"
     ]
    }
   ],
   "source": [
    "# Print type of weather_hh\n",
    "print(type(weather_hh))"
   ]
  },
  {
   "cell_type": "markdown",
   "metadata": {},
   "source": [
    "We can use different techniques to access all or only specific parts of the data. One way is to loop through the dictionary and print all key, value pairs.  \n",
    "Complete the code below and print all key value pairs."
   ]
  },
  {
   "cell_type": "code",
   "execution_count": 38,
   "metadata": {},
   "outputs": [
    {
     "name": "stdout",
     "output_type": "stream",
     "text": [
      "coord: {'lon': 6.7762, 'lat': 51.2217}\n",
      "weather: [{'id': 803, 'main': 'Clouds', 'description': 'broken clouds', 'icon': '04d'}]\n",
      "base: stations\n",
      "main: {'temp': 17.64, 'feels_like': 17.55, 'temp_min': 16.26, 'temp_max': 18.89, 'pressure': 1017, 'humidity': 80}\n",
      "visibility: 10000\n",
      "wind: {'speed': 3.6, 'deg': 10}\n",
      "clouds: {'all': 75}\n",
      "dt: 1718790277\n",
      "sys: {'type': 1, 'id': 1264, 'country': 'DE', 'sunrise': 1718767008, 'sunset': 1718826708}\n",
      "timezone: 7200\n",
      "id: 2934246\n",
      "name: Düsseldorf\n",
      "cod: 200\n"
     ]
    }
   ],
   "source": [
    "# Loop through and print all key-value pairs\n",
    "for key, value in weather_hh.items():\n",
    "    print(key + ':', value)"
   ]
  },
  {
   "cell_type": "markdown",
   "metadata": {},
   "source": [
    "Alternatively, we can print specific values by referencing their respective key."
   ]
  },
  {
   "cell_type": "code",
   "execution_count": 42,
   "metadata": {},
   "outputs": [
    {
     "data": {
      "text/plain": [
       "17.64"
      ]
     },
     "execution_count": 42,
     "metadata": {},
     "output_type": "execute_result"
    }
   ],
   "source": [
    "# Print values in base\n",
    "#weather_hh['base'] \n",
    "\n",
    "# Print values in main\n",
    "# weather_hh['main']\n",
    "\n",
    "# Print values in temp\n",
    "weather_hh['main']['temp']\n",
    "\n"
   ]
  },
  {
   "cell_type": "markdown",
   "metadata": {},
   "source": [
    "## Working with (nested) JSONs\n",
    "Now that you've learned how to pull current weather data from the OpenWeather API and explore the output, it's time to convert it to a DataFrame. Having the data in a DataFrame allows us to perform data exploration, manipulation or visualization.\n",
    "\n",
    "The DataFrame() function in the pandas package allows us to transform a dictionary into a DataFrame.\n",
    "Run the code below to import the library and transform the current weather in Hamburg into a DataFrame."
   ]
  },
  {
   "cell_type": "code",
   "execution_count": 46,
   "metadata": {},
   "outputs": [],
   "source": [
    "# Import pandas package\n",
    "\n",
    "import pandas as pd\n",
    "\n",
    "# Transform dictionary to dataframe (will throw an error)\n",
    "#pd.DataFrame(weather_hh)\n",
    "\n",
    "#ValueError: Mixing dicts with non-Series may lead to ambiguous ordering."
   ]
  },
  {
   "cell_type": "markdown",
   "metadata": {},
   "source": [
    "Weird, we're getting an error message. Do you have an idea what could be the issue?\n",
    "\n",
    "Don't worry if you have no clue what the problem is. Let's look at our JSON output again. Execute the code below."
   ]
  },
  {
   "cell_type": "code",
   "execution_count": 47,
   "metadata": {},
   "outputs": [
    {
     "data": {
      "text/plain": [
       "'{\\n   \"coord\": {\\n      \"lon\": 6.7762,\\n      \"lat\": 51.2217\\n   },\\n   \"weather\": [\\n      {\\n         \"id\": 803,\\n         \"main\": \"Clouds\",\\n         \"description\": \"broken clouds\",\\n         \"icon\": \"04d\"\\n      }\\n   ],\\n   \"base\": \"stations\",\\n   \"main\": {\\n      \"temp\": 17.64,\\n      \"feels_like\": 17.55,\\n      \"temp_min\": 16.26,\\n      \"temp_max\": 18.89,\\n      \"pressure\": 1017,\\n      \"humidity\": 80\\n   },\\n   \"visibility\": 10000,\\n   \"wind\": {\\n      \"speed\": 3.6,\\n      \"deg\": 10\\n   },\\n   \"clouds\": {\\n      \"all\": 75\\n   },\\n   \"dt\": 1718790277,\\n   \"sys\": {\\n      \"type\": 1,\\n      \"id\": 1264,\\n      \"country\": \"DE\",\\n      \"sunrise\": 1718767008,\\n      \"sunset\": 1718826708\\n   },\\n   \"timezone\": 7200,\\n   \"id\": 2934246,\\n   \"name\": \"D\\\\u00fcsseldorf\",\\n   \"cod\": 200\\n}'"
      ]
     },
     "execution_count": 47,
     "metadata": {},
     "output_type": "execute_result"
    }
   ],
   "source": [
    "# Print content of json_object\n",
    "json.dumps(json_object, indent = 3)"
   ]
  },
  {
   "cell_type": "markdown",
   "metadata": {},
   "source": [
    "We can see that some key-value pairs have further key-value pairs as values. The key \"weather\" for example has four key value pairs nested within: \"id\", \"main\", \"description\", \"icon\". The DataFrame() function expects dictionaries with only one level of key-value pairs, but since we have nested pairs, it throws an error.\n",
    "\n",
    "There are multiple solutions to this problem and the one that will be the most useful to you depends on what parts of the data you ultimately need for your analysis. We need all data in our output and therefore the method we are going to use is to flatten the JSON data using the json_normalize() function from the pandas package. It flattens our JSON data and transforms it into a DataFrame. Execute the code below and check the output."
   ]
  },
  {
   "cell_type": "code",
   "execution_count": 48,
   "metadata": {},
   "outputs": [
    {
     "name": "stdout",
     "output_type": "stream",
     "text": [
      "                                             weather      base  visibility  \\\n",
      "0  [{'id': 803, 'main': 'Clouds', 'description': ...  stations       10000   \n",
      "\n",
      "           dt  timezone       id        name  cod  coord_lon  coord_lat  ...  \\\n",
      "0  1718790277      7200  2934246  Düsseldorf  200     6.7762    51.2217  ...   \n",
      "\n",
      "   main_pressure  main_humidity  wind_speed  wind_deg  clouds_all  sys_type  \\\n",
      "0           1017             80         3.6        10          75         1   \n",
      "\n",
      "   sys_id  sys_country  sys_sunrise  sys_sunset  \n",
      "0    1264           DE   1718767008  1718826708  \n",
      "\n",
      "[1 rows x 24 columns]\n"
     ]
    }
   ],
   "source": [
    "# Flatten json and save in weather_hh_norm\n",
    "weather_hh_norm = pd.json_normalize(weather_hh, sep=\"_\")\n",
    "\n",
    "# Print weather_hh_norm\n",
    "\n",
    "print(weather_hh_norm)"
   ]
  },
  {
   "cell_type": "markdown",
   "metadata": {},
   "source": [
    "Awesome! Now we have a DaraFrame with 1 row and 24 columns. But wait, for some reason the \"weather\" column still contains data in JSON format. This is because the nested key-value pairs are in a list. Probably because sometimes the weather column can be nested further. In order to resolve this we need to use the advanced parameters of the json_normalize() function.\n",
    "\n",
    "* record_path = specify the key that is nested deeper\n",
    "* meta = specify the structure of the remaining JSON\n",
    "* record_prefix = adds a prefix to the column names in the record_path to avoid duplicate column names\n",
    "\n",
    "Execute the code below and compare the output to the output above."
   ]
  },
  {
   "cell_type": "code",
   "execution_count": 49,
   "metadata": {},
   "outputs": [
    {
     "name": "stdout",
     "output_type": "stream",
     "text": [
      "   weather_id weather_main weather_description weather_icon coord_lon  \\\n",
      "0         803       Clouds       broken clouds          04d    6.7762   \n",
      "\n",
      "  coord_lat      base main_temp main_feels_like main_temp_min  ...  \\\n",
      "0   51.2217  stations     17.64           17.55         16.26  ...   \n",
      "\n",
      "           dt sys_type sys_id sys_country sys_sunrise  sys_sunset timezone  \\\n",
      "0  1718790277        1   1264          DE  1718767008  1718826708     7200   \n",
      "\n",
      "        id        name  cod  \n",
      "0  2934246  Düsseldorf  200  \n",
      "\n",
      "[1 rows x 27 columns]\n"
     ]
    }
   ],
   "source": [
    "# Advanced flattening with json_normalize()\n",
    "weather_hh_df = pd.json_normalize(weather_hh, \n",
    "                                  sep=\"_\", \n",
    "                                  record_path=\"weather\", \n",
    "                                  meta=[[\"coord\", \"lon\"], \n",
    "                                        [\"coord\", \"lat\"], \n",
    "                                        \"base\",\n",
    "                                        [\"main\", \"temp\"],\n",
    "                                        [\"main\", \"feels_like\"],\n",
    "                                        [\"main\", \"temp_min\"],\n",
    "                                        [\"main\", \"temp_max\"], \n",
    "                                        [\"main\", \"pressure\"], \n",
    "                                        [\"main\", \"humidity\"], \n",
    "                                        \"visibility\", \n",
    "                                        [\"wind\", \"speed\"], \n",
    "                                        [\"wind\", \"deg\"], \n",
    "                                        [\"clouds\", \"all\"], \n",
    "                                        \"dt\", \n",
    "                                        [\"sys\", \"type\"], \n",
    "                                        [\"sys\", \"id\"],\n",
    "                                        [\"sys\", \"country\"],\n",
    "                                        [\"sys\", \"sunrise\"],\n",
    "                                        [\"sys\", \"sunset\"],\n",
    "                                        \"timezone\",\n",
    "                                        \"id\",\n",
    "                                        \"name\",\n",
    "                                        \"cod\"], \n",
    "                                  record_prefix=\"weather_\")\n",
    "# Print weather_hh_df\n",
    "print(weather_hh_df)"
   ]
  },
  {
   "cell_type": "markdown",
   "metadata": {},
   "source": [
    "You're probably thinking: \"Wow, this requires a lot of manual work typing all those keys in the paramaters\". And yes, you're right. Unfortunately this is one of the easier methods to solve the issue. Also, it's not perfect and comes with its own limitations. If you have data that is nested even deeper you often have no other choice but to write your own flattening function. Fortunately there are other Python specialists out there who have done so and shared their work here: \n",
    "\n",
    "* https://towardsdatascience.com/flattening-json-objects-in-python-f5343c794b10\n",
    "* https://stackoverflow.com/questions/52795561/flattening-nested-json-in-pandas-data-frame\n",
    "* https://medium.com/swlh/converting-nested-json-structures-to-pandas-dataframes-e8106c59976e\n",
    "\n",
    "\n",
    "Alright, now that the data is in the right format, we don't have to worry about nested JSONs anymore. To make our data more interesting, since right now we only have one row, let's pull current weather data from more cities and create a proper table with multiple rows. In order to do that, we're going to combine, extend and apply everything we've learnt so far:\n",
    "\n",
    "* Define the parameters in the request URL\n",
    "* Send a request and retrieve the response using the get() function\n",
    "* Decode the response using the JSON decoder .json()\n",
    "* Flatten the JSON file and transform it into a DataFrame\n",
    "\n",
    "The last step will be to combine all dataframes into one final table.\n",
    "\n",
    "This time we want to get the current weather data of multiple locations. Unfortunately the location parameter \"q\" only takes one location at a time. Using a for-loop we should be able to make multiple API calls while iterating through several locations.\n",
    "\n",
    "First, let's collect all the pieces we need below and\n",
    "\n",
    "1. Change the location variable to locations and have to include a list with multiple locations\n",
    "2. Define an empty DataFrame variable\n",
    "3. Add a for-loop that iterates through all locations, flattens the JSON output and appends it to the DataFrame\n",
    "\n",
    "**IMPORTANT: Don't run the code below too often per minute, since you only have 60 API calls per minute you can quickly run into a temporary query limit!**"
   ]
  },
  {
   "cell_type": "code",
   "execution_count": 53,
   "metadata": {},
   "outputs": [
    {
     "data": {
      "text/html": [
       "<div>\n",
       "<style scoped>\n",
       "    .dataframe tbody tr th:only-of-type {\n",
       "        vertical-align: middle;\n",
       "    }\n",
       "\n",
       "    .dataframe tbody tr th {\n",
       "        vertical-align: top;\n",
       "    }\n",
       "\n",
       "    .dataframe thead th {\n",
       "        text-align: right;\n",
       "    }\n",
       "</style>\n",
       "<table border=\"1\" class=\"dataframe\">\n",
       "  <thead>\n",
       "    <tr style=\"text-align: right;\">\n",
       "      <th></th>\n",
       "      <th>weather_id</th>\n",
       "      <th>weather_main</th>\n",
       "      <th>weather_description</th>\n",
       "      <th>weather_icon</th>\n",
       "      <th>coord_lon</th>\n",
       "      <th>coord_lat</th>\n",
       "      <th>base</th>\n",
       "      <th>main_temp</th>\n",
       "      <th>main_feels_like</th>\n",
       "      <th>main_temp_min</th>\n",
       "      <th>...</th>\n",
       "      <th>dt</th>\n",
       "      <th>sys_type</th>\n",
       "      <th>sys_id</th>\n",
       "      <th>sys_country</th>\n",
       "      <th>sys_sunrise</th>\n",
       "      <th>sys_sunset</th>\n",
       "      <th>timezone</th>\n",
       "      <th>id</th>\n",
       "      <th>name</th>\n",
       "      <th>cod</th>\n",
       "    </tr>\n",
       "  </thead>\n",
       "  <tbody>\n",
       "    <tr>\n",
       "      <th>0</th>\n",
       "      <td>803</td>\n",
       "      <td>Clouds</td>\n",
       "      <td>broken clouds</td>\n",
       "      <td>04d</td>\n",
       "      <td>10</td>\n",
       "      <td>53.55</td>\n",
       "      <td>stations</td>\n",
       "      <td>17.66</td>\n",
       "      <td>17.18</td>\n",
       "      <td>16.08</td>\n",
       "      <td>...</td>\n",
       "      <td>1718792858</td>\n",
       "      <td>1</td>\n",
       "      <td>1263</td>\n",
       "      <td>DE</td>\n",
       "      <td>1718765406</td>\n",
       "      <td>1718826763</td>\n",
       "      <td>7200</td>\n",
       "      <td>2911298</td>\n",
       "      <td>Hamburg</td>\n",
       "      <td>200</td>\n",
       "    </tr>\n",
       "    <tr>\n",
       "      <th>1</th>\n",
       "      <td>803</td>\n",
       "      <td>Clouds</td>\n",
       "      <td>broken clouds</td>\n",
       "      <td>04d</td>\n",
       "      <td>13.4105</td>\n",
       "      <td>52.5244</td>\n",
       "      <td>stations</td>\n",
       "      <td>17.77</td>\n",
       "      <td>17.69</td>\n",
       "      <td>16.66</td>\n",
       "      <td>...</td>\n",
       "      <td>1718792729</td>\n",
       "      <td>2</td>\n",
       "      <td>2011538</td>\n",
       "      <td>DE</td>\n",
       "      <td>1718764968</td>\n",
       "      <td>1718825564</td>\n",
       "      <td>7200</td>\n",
       "      <td>2950159</td>\n",
       "      <td>Berlin</td>\n",
       "      <td>200</td>\n",
       "    </tr>\n",
       "    <tr>\n",
       "      <th>2</th>\n",
       "      <td>803</td>\n",
       "      <td>Clouds</td>\n",
       "      <td>broken clouds</td>\n",
       "      <td>04d</td>\n",
       "      <td>-0.1257</td>\n",
       "      <td>51.5085</td>\n",
       "      <td>stations</td>\n",
       "      <td>17.26</td>\n",
       "      <td>16.71</td>\n",
       "      <td>14.92</td>\n",
       "      <td>...</td>\n",
       "      <td>1718792702</td>\n",
       "      <td>2</td>\n",
       "      <td>2093698</td>\n",
       "      <td>GB</td>\n",
       "      <td>1718768569</td>\n",
       "      <td>1718828461</td>\n",
       "      <td>3600</td>\n",
       "      <td>2643743</td>\n",
       "      <td>London</td>\n",
       "      <td>200</td>\n",
       "    </tr>\n",
       "    <tr>\n",
       "      <th>3</th>\n",
       "      <td>802</td>\n",
       "      <td>Clouds</td>\n",
       "      <td>scattered clouds</td>\n",
       "      <td>03d</td>\n",
       "      <td>-3.7026</td>\n",
       "      <td>40.4165</td>\n",
       "      <td>stations</td>\n",
       "      <td>19.74</td>\n",
       "      <td>19.34</td>\n",
       "      <td>18.48</td>\n",
       "      <td>...</td>\n",
       "      <td>1718792239</td>\n",
       "      <td>2</td>\n",
       "      <td>2084029</td>\n",
       "      <td>ES</td>\n",
       "      <td>1718772268</td>\n",
       "      <td>1718826479</td>\n",
       "      <td>7200</td>\n",
       "      <td>3117735</td>\n",
       "      <td>Madrid</td>\n",
       "      <td>200</td>\n",
       "    </tr>\n",
       "    <tr>\n",
       "      <th>4</th>\n",
       "      <td>801</td>\n",
       "      <td>Clouds</td>\n",
       "      <td>few clouds</td>\n",
       "      <td>02d</td>\n",
       "      <td>-74.006</td>\n",
       "      <td>40.7143</td>\n",
       "      <td>stations</td>\n",
       "      <td>21.55</td>\n",
       "      <td>21.77</td>\n",
       "      <td>19.12</td>\n",
       "      <td>...</td>\n",
       "      <td>1718792590</td>\n",
       "      <td>1</td>\n",
       "      <td>4610</td>\n",
       "      <td>US</td>\n",
       "      <td>1718789083</td>\n",
       "      <td>1718843415</td>\n",
       "      <td>-14400</td>\n",
       "      <td>5128581</td>\n",
       "      <td>New York</td>\n",
       "      <td>200</td>\n",
       "    </tr>\n",
       "    <tr>\n",
       "      <th>5</th>\n",
       "      <td>803</td>\n",
       "      <td>Clouds</td>\n",
       "      <td>broken clouds</td>\n",
       "      <td>04d</td>\n",
       "      <td>37.6156</td>\n",
       "      <td>55.7522</td>\n",
       "      <td>stations</td>\n",
       "      <td>26.04</td>\n",
       "      <td>26.04</td>\n",
       "      <td>24.1</td>\n",
       "      <td>...</td>\n",
       "      <td>1718792493</td>\n",
       "      <td>2</td>\n",
       "      <td>2095214</td>\n",
       "      <td>RU</td>\n",
       "      <td>1718757860</td>\n",
       "      <td>1718821051</td>\n",
       "      <td>10800</td>\n",
       "      <td>524901</td>\n",
       "      <td>Moscow</td>\n",
       "      <td>200</td>\n",
       "    </tr>\n",
       "    <tr>\n",
       "      <th>6</th>\n",
       "      <td>801</td>\n",
       "      <td>Clouds</td>\n",
       "      <td>few clouds</td>\n",
       "      <td>02d</td>\n",
       "      <td>-74.006</td>\n",
       "      <td>40.7143</td>\n",
       "      <td>stations</td>\n",
       "      <td>21.55</td>\n",
       "      <td>21.77</td>\n",
       "      <td>19.12</td>\n",
       "      <td>...</td>\n",
       "      <td>1718792590</td>\n",
       "      <td>1</td>\n",
       "      <td>4610</td>\n",
       "      <td>US</td>\n",
       "      <td>1718789083</td>\n",
       "      <td>1718843415</td>\n",
       "      <td>-14400</td>\n",
       "      <td>5128581</td>\n",
       "      <td>New York</td>\n",
       "      <td>200</td>\n",
       "    </tr>\n",
       "    <tr>\n",
       "      <th>7</th>\n",
       "      <td>802</td>\n",
       "      <td>Clouds</td>\n",
       "      <td>scattered clouds</td>\n",
       "      <td>03d</td>\n",
       "      <td>32.8543</td>\n",
       "      <td>39.9199</td>\n",
       "      <td>stations</td>\n",
       "      <td>30.06</td>\n",
       "      <td>28.81</td>\n",
       "      <td>29.51</td>\n",
       "      <td>...</td>\n",
       "      <td>1718792575</td>\n",
       "      <td>2</td>\n",
       "      <td>267643</td>\n",
       "      <td>TR</td>\n",
       "      <td>1718763591</td>\n",
       "      <td>1718817606</td>\n",
       "      <td>10800</td>\n",
       "      <td>323786</td>\n",
       "      <td>Ankara</td>\n",
       "      <td>200</td>\n",
       "    </tr>\n",
       "    <tr>\n",
       "      <th>8</th>\n",
       "      <td>800</td>\n",
       "      <td>Clear</td>\n",
       "      <td>clear sky</td>\n",
       "      <td>01d</td>\n",
       "      <td>44.4009</td>\n",
       "      <td>33.3406</td>\n",
       "      <td>stations</td>\n",
       "      <td>46.95</td>\n",
       "      <td>42.21</td>\n",
       "      <td>46.95</td>\n",
       "      <td>...</td>\n",
       "      <td>1718792985</td>\n",
       "      <td>1</td>\n",
       "      <td>7597</td>\n",
       "      <td>IQ</td>\n",
       "      <td>1718761980</td>\n",
       "      <td>1718813674</td>\n",
       "      <td>10800</td>\n",
       "      <td>98182</td>\n",
       "      <td>Baghdad</td>\n",
       "      <td>200</td>\n",
       "    </tr>\n",
       "    <tr>\n",
       "      <th>9</th>\n",
       "      <td>800</td>\n",
       "      <td>Clear</td>\n",
       "      <td>clear sky</td>\n",
       "      <td>01d</td>\n",
       "      <td>69.4167</td>\n",
       "      <td>34.5</td>\n",
       "      <td>stations</td>\n",
       "      <td>29.68</td>\n",
       "      <td>27.88</td>\n",
       "      <td>29.68</td>\n",
       "      <td>...</td>\n",
       "      <td>1718793006</td>\n",
       "      <td>NaN</td>\n",
       "      <td>NaN</td>\n",
       "      <td>AF</td>\n",
       "      <td>1718755787</td>\n",
       "      <td>1718807858</td>\n",
       "      <td>16200</td>\n",
       "      <td>1138957</td>\n",
       "      <td>Kabul</td>\n",
       "      <td>200</td>\n",
       "    </tr>\n",
       "    <tr>\n",
       "      <th>10</th>\n",
       "      <td>801</td>\n",
       "      <td>Clouds</td>\n",
       "      <td>few clouds</td>\n",
       "      <td>02n</td>\n",
       "      <td>139.6917</td>\n",
       "      <td>35.6895</td>\n",
       "      <td>stations</td>\n",
       "      <td>25.6</td>\n",
       "      <td>25.78</td>\n",
       "      <td>23.67</td>\n",
       "      <td>...</td>\n",
       "      <td>1718792870</td>\n",
       "      <td>2</td>\n",
       "      <td>2001249</td>\n",
       "      <td>JP</td>\n",
       "      <td>1718738720</td>\n",
       "      <td>1718791188</td>\n",
       "      <td>32400</td>\n",
       "      <td>1850147</td>\n",
       "      <td>Tokyo</td>\n",
       "      <td>200</td>\n",
       "    </tr>\n",
       "    <tr>\n",
       "      <th>11</th>\n",
       "      <td>803</td>\n",
       "      <td>Clouds</td>\n",
       "      <td>broken clouds</td>\n",
       "      <td>04d</td>\n",
       "      <td>121.5319</td>\n",
       "      <td>25.0478</td>\n",
       "      <td>stations</td>\n",
       "      <td>28.94</td>\n",
       "      <td>33.35</td>\n",
       "      <td>28.84</td>\n",
       "      <td>...</td>\n",
       "      <td>1718792903</td>\n",
       "      <td>2</td>\n",
       "      <td>266033</td>\n",
       "      <td>TW</td>\n",
       "      <td>1718744664</td>\n",
       "      <td>1718793962</td>\n",
       "      <td>28800</td>\n",
       "      <td>1668341</td>\n",
       "      <td>Taipei</td>\n",
       "      <td>200</td>\n",
       "    </tr>\n",
       "    <tr>\n",
       "      <th>12</th>\n",
       "      <td>804</td>\n",
       "      <td>Clouds</td>\n",
       "      <td>overcast clouds</td>\n",
       "      <td>04n</td>\n",
       "      <td>120.9822</td>\n",
       "      <td>14.6042</td>\n",
       "      <td>stations</td>\n",
       "      <td>29.64</td>\n",
       "      <td>36.64</td>\n",
       "      <td>29</td>\n",
       "      <td>...</td>\n",
       "      <td>1718793007</td>\n",
       "      <td>1</td>\n",
       "      <td>8160</td>\n",
       "      <td>PH</td>\n",
       "      <td>1718746063</td>\n",
       "      <td>1718792827</td>\n",
       "      <td>28800</td>\n",
       "      <td>1701668</td>\n",
       "      <td>Manila</td>\n",
       "      <td>200</td>\n",
       "    </tr>\n",
       "    <tr>\n",
       "      <th>13</th>\n",
       "      <td>801</td>\n",
       "      <td>Clouds</td>\n",
       "      <td>few clouds</td>\n",
       "      <td>02n</td>\n",
       "      <td>174.7667</td>\n",
       "      <td>-36.8667</td>\n",
       "      <td>stations</td>\n",
       "      <td>12.11</td>\n",
       "      <td>11.49</td>\n",
       "      <td>10.63</td>\n",
       "      <td>...</td>\n",
       "      <td>1718792986</td>\n",
       "      <td>2</td>\n",
       "      <td>2012285</td>\n",
       "      <td>NZ</td>\n",
       "      <td>1718739199</td>\n",
       "      <td>1718773871</td>\n",
       "      <td>43200</td>\n",
       "      <td>2193733</td>\n",
       "      <td>Auckland</td>\n",
       "      <td>200</td>\n",
       "    </tr>\n",
       "    <tr>\n",
       "      <th>14</th>\n",
       "      <td>800</td>\n",
       "      <td>Clear</td>\n",
       "      <td>clear sky</td>\n",
       "      <td>01d</td>\n",
       "      <td>126.9778</td>\n",
       "      <td>37.5683</td>\n",
       "      <td>stations</td>\n",
       "      <td>31.51</td>\n",
       "      <td>32.1</td>\n",
       "      <td>25.69</td>\n",
       "      <td>...</td>\n",
       "      <td>1718792710</td>\n",
       "      <td>1</td>\n",
       "      <td>8105</td>\n",
       "      <td>KR</td>\n",
       "      <td>1718741442</td>\n",
       "      <td>1718794570</td>\n",
       "      <td>32400</td>\n",
       "      <td>1835848</td>\n",
       "      <td>Seoul</td>\n",
       "      <td>200</td>\n",
       "    </tr>\n",
       "  </tbody>\n",
       "</table>\n",
       "<p>15 rows × 27 columns</p>\n",
       "</div>"
      ],
      "text/plain": [
       "    weather_id weather_main weather_description weather_icon coord_lon  \\\n",
       "0          803       Clouds       broken clouds          04d        10   \n",
       "1          803       Clouds       broken clouds          04d   13.4105   \n",
       "2          803       Clouds       broken clouds          04d   -0.1257   \n",
       "3          802       Clouds    scattered clouds          03d   -3.7026   \n",
       "4          801       Clouds          few clouds          02d   -74.006   \n",
       "5          803       Clouds       broken clouds          04d   37.6156   \n",
       "6          801       Clouds          few clouds          02d   -74.006   \n",
       "7          802       Clouds    scattered clouds          03d   32.8543   \n",
       "8          800        Clear           clear sky          01d   44.4009   \n",
       "9          800        Clear           clear sky          01d   69.4167   \n",
       "10         801       Clouds          few clouds          02n  139.6917   \n",
       "11         803       Clouds       broken clouds          04d  121.5319   \n",
       "12         804       Clouds     overcast clouds          04n  120.9822   \n",
       "13         801       Clouds          few clouds          02n  174.7667   \n",
       "14         800        Clear           clear sky          01d  126.9778   \n",
       "\n",
       "   coord_lat      base main_temp main_feels_like main_temp_min  ...  \\\n",
       "0      53.55  stations     17.66           17.18         16.08  ...   \n",
       "1    52.5244  stations     17.77           17.69         16.66  ...   \n",
       "2    51.5085  stations     17.26           16.71         14.92  ...   \n",
       "3    40.4165  stations     19.74           19.34         18.48  ...   \n",
       "4    40.7143  stations     21.55           21.77         19.12  ...   \n",
       "5    55.7522  stations     26.04           26.04          24.1  ...   \n",
       "6    40.7143  stations     21.55           21.77         19.12  ...   \n",
       "7    39.9199  stations     30.06           28.81         29.51  ...   \n",
       "8    33.3406  stations     46.95           42.21         46.95  ...   \n",
       "9       34.5  stations     29.68           27.88         29.68  ...   \n",
       "10   35.6895  stations      25.6           25.78         23.67  ...   \n",
       "11   25.0478  stations     28.94           33.35         28.84  ...   \n",
       "12   14.6042  stations     29.64           36.64            29  ...   \n",
       "13  -36.8667  stations     12.11           11.49         10.63  ...   \n",
       "14   37.5683  stations     31.51            32.1         25.69  ...   \n",
       "\n",
       "            dt sys_type   sys_id sys_country sys_sunrise  sys_sunset timezone  \\\n",
       "0   1718792858        1     1263          DE  1718765406  1718826763     7200   \n",
       "1   1718792729        2  2011538          DE  1718764968  1718825564     7200   \n",
       "2   1718792702        2  2093698          GB  1718768569  1718828461     3600   \n",
       "3   1718792239        2  2084029          ES  1718772268  1718826479     7200   \n",
       "4   1718792590        1     4610          US  1718789083  1718843415   -14400   \n",
       "5   1718792493        2  2095214          RU  1718757860  1718821051    10800   \n",
       "6   1718792590        1     4610          US  1718789083  1718843415   -14400   \n",
       "7   1718792575        2   267643          TR  1718763591  1718817606    10800   \n",
       "8   1718792985        1     7597          IQ  1718761980  1718813674    10800   \n",
       "9   1718793006      NaN      NaN          AF  1718755787  1718807858    16200   \n",
       "10  1718792870        2  2001249          JP  1718738720  1718791188    32400   \n",
       "11  1718792903        2   266033          TW  1718744664  1718793962    28800   \n",
       "12  1718793007        1     8160          PH  1718746063  1718792827    28800   \n",
       "13  1718792986        2  2012285          NZ  1718739199  1718773871    43200   \n",
       "14  1718792710        1     8105          KR  1718741442  1718794570    32400   \n",
       "\n",
       "         id      name  cod  \n",
       "0   2911298   Hamburg  200  \n",
       "1   2950159    Berlin  200  \n",
       "2   2643743    London  200  \n",
       "3   3117735    Madrid  200  \n",
       "4   5128581  New York  200  \n",
       "5    524901    Moscow  200  \n",
       "6   5128581  New York  200  \n",
       "7    323786    Ankara  200  \n",
       "8     98182   Baghdad  200  \n",
       "9   1138957     Kabul  200  \n",
       "10  1850147     Tokyo  200  \n",
       "11  1668341    Taipei  200  \n",
       "12  1701668    Manila  200  \n",
       "13  2193733  Auckland  200  \n",
       "14  1835848     Seoul  200  \n",
       "\n",
       "[15 rows x 27 columns]"
      ]
     },
     "execution_count": 53,
     "metadata": {},
     "output_type": "execute_result"
    }
   ],
   "source": [
    "# Set the url\n",
    "url = 'http://api.openweathermap.org/data/2.5/weather?'\n",
    "\n",
    "# Set locations\n",
    "locations = [\"q=Hamburg\", \n",
    "             \"q=Berlin\", \n",
    "             \"q=London\", \n",
    "             \"q=Madrid\",\n",
    "             \"q=New York\",\n",
    "             \"q=Moscow\",\n",
    "             \"q=New York\",\n",
    "             \"q=Ankara\",\n",
    "             \"q=Baghdad\",\n",
    "             \"q=Kabul\",\n",
    "             \"q=Tokio\",\n",
    "             \"q=Taipei\",\n",
    "             \"q=Manila\",\n",
    "             \"q=Auckland\",\n",
    "             \"q=Seoul\"]\n",
    "\n",
    "# Set unit of measurement\n",
    "unit = \"&units=metric\"\n",
    "\n",
    "# Set API key (defined already)\n",
    "api_key = '&appid=' + os.getenv('openweather_api_key')\n",
    "\n",
    "# Create empty dataframe, will be used to append each location's weather data\n",
    "weather_df = pd.DataFrame([])\n",
    "\n",
    "# Loop through all locations\n",
    "for location in locations:\n",
    "    # Create final url\n",
    "    url_f = url + location + unit + api_key\n",
    "    \n",
    "    # Request data from url\n",
    "    r = requests.get(url_f)\n",
    "    \n",
    "    # time.sleep(1) #uncomment if you run into a query limit\n",
    "    \n",
    "    # Decode repsonse with json decoder\n",
    "    weather_temp = r.json()\n",
    "\n",
    "    # Flatten json response\n",
    "    weather_temp_df = pd.json_normalize(weather_temp, \n",
    "                                        sep=\"_\", errors='ignore',\n",
    "                                        record_path=\"weather\", \n",
    "                                        meta=[[\"coord\", \"lon\"], \n",
    "                                              [\"coord\", \"lat\"], \n",
    "                                              \"base\",\n",
    "                                              [\"main\", \"temp\"],\n",
    "                                              [\"main\", \"feels_like\"],\n",
    "                                              [\"main\", \"temp_min\"],\n",
    "                                              [\"main\", \"temp_max\"], \n",
    "                                              [\"main\", \"pressure\"], \n",
    "                                              [\"main\", \"humidity\"], \n",
    "                                              \"visibility\", \n",
    "                                              [\"wind\", \"speed\"], \n",
    "                                              [\"wind\", \"deg\"], \n",
    "                                              [\"clouds\", \"all\"], \n",
    "                                              \"dt\", \n",
    "                                              [\"sys\", \"type\"], \n",
    "                                              [\"sys\", \"id\"],\n",
    "                                              [\"sys\", \"country\"],\n",
    "                                              [\"sys\", \"sunrise\"],\n",
    "                                              [\"sys\", \"sunset\"],\n",
    "                                              \"timezone\",\n",
    "                                              \"id\",\n",
    "                                              \"name\",\n",
    "                                              \"cod\"], \n",
    "                                        record_prefix=\"weather_\")\n",
    "    \n",
    "    # concatenate dataframes\n",
    "    weather_df = pd.concat([weather_df, weather_temp_df], ignore_index=True)\n",
    "\n",
    "# Print final dataset weather_df\n",
    "weather_df"
   ]
  },
  {
   "cell_type": "markdown",
   "metadata": {},
   "source": [
    "Fantastic! Now we have a DataFrame with current weather information for 15 locations. What's even better, we didn't have to write a lot of complicated code. How cool is that!?  \n",
    "\n",
    "If we wanted to, we could now create a new weather table in our database and write the weather data into it. Guess what, this is exactly what you're going to do in the upcoming project. So take a break and then move on to the next challenge, good luck!"
   ]
  },
  {
   "cell_type": "markdown",
   "id": "0027a881",
   "metadata": {},
   "source": [
    "### Extra Credit \n",
    "\n",
    "If you have time and energy, we have an additional challenge for you.\n",
    "\n",
    "Until now, you got to know two different methods to call an API:\n",
    "1. Pass the general part of the URL and put the rest of the information into a dictionary and pass it as an additional argument.\n",
    "<br>`r = requests.get(url_part, parameters)`\n",
    "2. Join together all parts of the URL as strings and pass the whole URL to the get function.\n",
    "<br>`url_all = url_part + location + unit + api_key`\n",
    "<br>`r = requests.get(url_all)`\n",
    "\n",
    "Why don't you apply the first method (passing parameters to the get function) to the task in which you used the second method. <br> Can you do it?\n"
   ]
  }
 ],
 "metadata": {
  "interpreter": {
   "hash": "6c96e12ea435425e5eacdf5151fc2e31f65462d718b52a4ac07f3a4743bbc86b"
  },
  "kernelspec": {
   "display_name": "Python 3.9.4 64-bit ('base': conda)",
   "language": "python",
   "name": "python3"
  },
  "language_info": {
   "codemirror_mode": {
    "name": "ipython",
    "version": 3
   },
   "file_extension": ".py",
   "mimetype": "text/x-python",
   "name": "python",
   "nbconvert_exporter": "python",
   "pygments_lexer": "ipython3",
   "version": "3.9.undefined"
  }
 },
 "nbformat": 4,
 "nbformat_minor": 5
}
